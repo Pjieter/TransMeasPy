{
 "cells": [
  {
   "cell_type": "code",
   "execution_count": null,
   "id": "d3b5c551",
   "metadata": {},
   "outputs": [],
   "source": [
    "# Measure IV\n",
    "current = 1e-9\n",
    "\n",
    "S4C_output = current\n",
    "S4C_range = 1e-6\n",
    "S4C_input = S4C_output / S4C_range\n",
    "S0_output = S4C_input\n",
    "print(\"S4C input voltage:\", S4C_input, \"V\")\n",
    "S0_range = 1\n",
    "S0_input = S0_output / S0_range\n",
    "IVVI_output = S0_input\n",
    "print(\"IVVI output voltage:\", IVVI_output, \"V\")"
   ]
  },
  {
   "cell_type": "code",
   "execution_count": 1,
   "id": "55179f33",
   "metadata": {},
   "outputs": [],
   "source": [
    "import sys\n",
    "sys.path.append(r\"C:\\Users\\michi\\OneDrive\\Documenten\\PhD\\Coding\\Meas_GUI\")\n",
    "\n",
    "from local_qcodes.instrument_drivers.QuTech.IVVI_rack import S4C, IVVIRack\n",
    "\n",
    "\n",
    "\n",
    "ivvi = IVVIRack(\"IVVI\")\n",
    "\n"
   ]
  },
  {
   "cell_type": "code",
   "execution_count": 2,
   "id": "dadbdb26",
   "metadata": {},
   "outputs": [
    {
     "name": "stdout",
     "output_type": "stream",
     "text": [
      "1e-06 None\n"
     ]
    }
   ],
   "source": [
    "print(\n",
    "    ivvi.s4c.range(),\n",
    "    ivvi.s4c.output()\n",
    ")\n",
    "\n",
    "\n"
   ]
  },
  {
   "cell_type": "code",
   "execution_count": 12,
   "id": "24699f63",
   "metadata": {},
   "outputs": [
    {
     "ename": "ValueError",
     "evalue": "('1e-06 is invalid: must be between -1e-07 and 1e-07 inclusive; ', 'setting IVVI_s4c_output to 1e-06')",
     "output_type": "error",
     "traceback": [
      "\u001b[1;31m---------------------------------------------------------------------------\u001b[0m",
      "\u001b[1;31mValueError\u001b[0m                                Traceback (most recent call last)",
      "Cell \u001b[1;32mIn[12], line 2\u001b[0m\n\u001b[0;32m      1\u001b[0m ivvi\u001b[38;5;241m.\u001b[39ms4c\u001b[38;5;241m.\u001b[39mrange(\u001b[38;5;241m1e-7\u001b[39m)\n\u001b[1;32m----> 2\u001b[0m \u001b[43mivvi\u001b[49m\u001b[38;5;241;43m.\u001b[39;49m\u001b[43ms4c\u001b[49m\u001b[38;5;241;43m.\u001b[39;49m\u001b[43moutput\u001b[49m\u001b[43m(\u001b[49m\u001b[38;5;241;43m1e-6\u001b[39;49m\u001b[43m)\u001b[49m\n",
      "File \u001b[1;32mc:\\Users\\michi\\AppData\\Local\\pypoetry\\Cache\\virtualenvs\\meas-gui-X49F-gLk-py3.12\\Lib\\site-packages\\qcodes\\parameters\\parameter_base.py:521\u001b[0m, in \u001b[0;36mParameterBase.__call__\u001b[1;34m(self, *args, **kwargs)\u001b[0m\n\u001b[0;32m    519\u001b[0m         \u001b[38;5;28;01mraise\u001b[39;00m \u001b[38;5;167;01mNotImplementedError\u001b[39;00m(\u001b[38;5;124mf\u001b[39m\u001b[38;5;124m\"\u001b[39m\u001b[38;5;124mno get cmd found in Parameter \u001b[39m\u001b[38;5;132;01m{\u001b[39;00m\u001b[38;5;28mself\u001b[39m\u001b[38;5;241m.\u001b[39mname\u001b[38;5;132;01m}\u001b[39;00m\u001b[38;5;124m\"\u001b[39m)\n\u001b[0;32m    520\u001b[0m \u001b[38;5;28;01melif\u001b[39;00m \u001b[38;5;28mself\u001b[39m\u001b[38;5;241m.\u001b[39msettable:\n\u001b[1;32m--> 521\u001b[0m     \u001b[38;5;28;43mself\u001b[39;49m\u001b[38;5;241;43m.\u001b[39;49m\u001b[43mset\u001b[49m\u001b[43m(\u001b[49m\u001b[38;5;241;43m*\u001b[39;49m\u001b[43margs\u001b[49m\u001b[43m,\u001b[49m\u001b[43m \u001b[49m\u001b[38;5;241;43m*\u001b[39;49m\u001b[38;5;241;43m*\u001b[39;49m\u001b[43mkwargs\u001b[49m\u001b[43m)\u001b[49m\n\u001b[0;32m    522\u001b[0m     \u001b[38;5;28;01mreturn\u001b[39;00m \u001b[38;5;28;01mNone\u001b[39;00m\n\u001b[0;32m    523\u001b[0m \u001b[38;5;28;01melse\u001b[39;00m:\n",
      "File \u001b[1;32mc:\\Users\\michi\\AppData\\Local\\pypoetry\\Cache\\virtualenvs\\meas-gui-X49F-gLk-py3.12\\Lib\\site-packages\\qcodes\\parameters\\parameter_base.py:783\u001b[0m, in \u001b[0;36mParameterBase._wrap_set.<locals>.set_wrapper\u001b[1;34m(value, **kwargs)\u001b[0m\n\u001b[0;32m    781\u001b[0m \u001b[38;5;28;01mexcept\u001b[39;00m \u001b[38;5;167;01mException\u001b[39;00m \u001b[38;5;28;01mas\u001b[39;00m e:\n\u001b[0;32m    782\u001b[0m     e\u001b[38;5;241m.\u001b[39margs \u001b[38;5;241m=\u001b[39m (\u001b[38;5;241m*\u001b[39me\u001b[38;5;241m.\u001b[39margs, \u001b[38;5;124mf\u001b[39m\u001b[38;5;124m\"\u001b[39m\u001b[38;5;124msetting \u001b[39m\u001b[38;5;132;01m{\u001b[39;00m\u001b[38;5;28mself\u001b[39m\u001b[38;5;132;01m}\u001b[39;00m\u001b[38;5;124m to \u001b[39m\u001b[38;5;132;01m{\u001b[39;00mvalue\u001b[38;5;132;01m}\u001b[39;00m\u001b[38;5;124m\"\u001b[39m)\n\u001b[1;32m--> 783\u001b[0m     \u001b[38;5;28;01mraise\u001b[39;00m e\n",
      "File \u001b[1;32mc:\\Users\\michi\\AppData\\Local\\pypoetry\\Cache\\virtualenvs\\meas-gui-X49F-gLk-py3.12\\Lib\\site-packages\\qcodes\\parameters\\parameter_base.py:744\u001b[0m, in \u001b[0;36mParameterBase._wrap_set.<locals>.set_wrapper\u001b[1;34m(value, **kwargs)\u001b[0m\n\u001b[0;32m    740\u001b[0m \u001b[38;5;28;01mif\u001b[39;00m \u001b[38;5;28mself\u001b[39m\u001b[38;5;241m.\u001b[39mabstract:\n\u001b[0;32m    741\u001b[0m     \u001b[38;5;28;01mraise\u001b[39;00m \u001b[38;5;167;01mNotImplementedError\u001b[39;00m(\n\u001b[0;32m    742\u001b[0m         \u001b[38;5;124mf\u001b[39m\u001b[38;5;124m\"\u001b[39m\u001b[38;5;124mTrying to set an abstract parameter: \u001b[39m\u001b[38;5;132;01m{\u001b[39;00m\u001b[38;5;28mself\u001b[39m\u001b[38;5;241m.\u001b[39mfull_name\u001b[38;5;132;01m}\u001b[39;00m\u001b[38;5;124m\"\u001b[39m\n\u001b[0;32m    743\u001b[0m     )\n\u001b[1;32m--> 744\u001b[0m \u001b[38;5;28;43mself\u001b[39;49m\u001b[38;5;241;43m.\u001b[39;49m\u001b[43mvalidate\u001b[49m\u001b[43m(\u001b[49m\u001b[43mvalue\u001b[49m\u001b[43m)\u001b[49m\n\u001b[0;32m    746\u001b[0m \u001b[38;5;66;03m# In some cases intermediate sweep values must be used.\u001b[39;00m\n\u001b[0;32m    747\u001b[0m \u001b[38;5;66;03m# Unless `self.step` is defined, get_sweep_values will return\u001b[39;00m\n\u001b[0;32m    748\u001b[0m \u001b[38;5;66;03m# a list containing only `value`.\u001b[39;00m\n\u001b[0;32m    749\u001b[0m steps \u001b[38;5;241m=\u001b[39m \u001b[38;5;28mself\u001b[39m\u001b[38;5;241m.\u001b[39mget_ramp_values(value, step\u001b[38;5;241m=\u001b[39m\u001b[38;5;28mself\u001b[39m\u001b[38;5;241m.\u001b[39mstep)\n",
      "File \u001b[1;32mc:\\Users\\michi\\AppData\\Local\\pypoetry\\Cache\\virtualenvs\\meas-gui-X49F-gLk-py3.12\\Lib\\site-packages\\qcodes\\parameters\\parameter_base.py:860\u001b[0m, in \u001b[0;36mParameterBase.validate\u001b[1;34m(self, value)\u001b[0m\n\u001b[0;32m    858\u001b[0m \u001b[38;5;28;01mfor\u001b[39;00m validator \u001b[38;5;129;01min\u001b[39;00m \u001b[38;5;28mreversed\u001b[39m(\u001b[38;5;28mself\u001b[39m\u001b[38;5;241m.\u001b[39m_vals):\n\u001b[0;32m    859\u001b[0m     \u001b[38;5;28;01mif\u001b[39;00m validator \u001b[38;5;129;01mis\u001b[39;00m \u001b[38;5;129;01mnot\u001b[39;00m \u001b[38;5;28;01mNone\u001b[39;00m:\n\u001b[1;32m--> 860\u001b[0m         \u001b[43mvalidator\u001b[49m\u001b[38;5;241;43m.\u001b[39;49m\u001b[43mvalidate\u001b[49m\u001b[43m(\u001b[49m\u001b[43mvalue\u001b[49m\u001b[43m,\u001b[49m\u001b[43m \u001b[49m\u001b[38;5;28;43mself\u001b[39;49m\u001b[38;5;241;43m.\u001b[39;49m\u001b[43m_validate_context\u001b[49m\u001b[43m)\u001b[49m\n",
      "File \u001b[1;32m~\\OneDrive\\Documenten\\PhD\\Coding\\Meas_GUI\\local_qcodes\\instrument_drivers\\QuTech\\IVVI_rack.py:81\u001b[0m, in \u001b[0;36mOutputValidator.validate\u001b[1;34m(self, value, context)\u001b[0m\n\u001b[0;32m     79\u001b[0m     scale \u001b[38;5;241m=\u001b[39m \u001b[38;5;28mself\u001b[39m\u001b[38;5;241m.\u001b[39minstrument\u001b[38;5;241m.\u001b[39mrange()\n\u001b[0;32m     80\u001b[0m validator \u001b[38;5;241m=\u001b[39m Numbers(\u001b[38;5;241m-\u001b[39m\u001b[38;5;241m1\u001b[39m \u001b[38;5;241m*\u001b[39m scale, \u001b[38;5;241m1\u001b[39m \u001b[38;5;241m*\u001b[39m scale)\n\u001b[1;32m---> 81\u001b[0m \u001b[43mvalidator\u001b[49m\u001b[38;5;241;43m.\u001b[39;49m\u001b[43mvalidate\u001b[49m\u001b[43m(\u001b[49m\u001b[43mvalue\u001b[49m\u001b[43m)\u001b[49m\n",
      "File \u001b[1;32mc:\\Users\\michi\\AppData\\Local\\pypoetry\\Cache\\virtualenvs\\meas-gui-X49F-gLk-py3.12\\Lib\\site-packages\\qcodes\\validators\\validators.py:299\u001b[0m, in \u001b[0;36mNumbers.validate\u001b[1;34m(self, value, context)\u001b[0m\n\u001b[0;32m    296\u001b[0m     \u001b[38;5;28;01mraise\u001b[39;00m \u001b[38;5;167;01mTypeError\u001b[39;00m(\u001b[38;5;124mf\u001b[39m\u001b[38;5;124m\"\u001b[39m\u001b[38;5;132;01m{\u001b[39;00mvalue\u001b[38;5;132;01m!r}\u001b[39;00m\u001b[38;5;124m is not an int or float; \u001b[39m\u001b[38;5;132;01m{\u001b[39;00mcontext\u001b[38;5;132;01m}\u001b[39;00m\u001b[38;5;124m\"\u001b[39m)\n\u001b[0;32m    298\u001b[0m \u001b[38;5;28;01mif\u001b[39;00m \u001b[38;5;129;01mnot\u001b[39;00m (\u001b[38;5;28mself\u001b[39m\u001b[38;5;241m.\u001b[39m_min_value \u001b[38;5;241m<\u001b[39m\u001b[38;5;241m=\u001b[39m value \u001b[38;5;241m<\u001b[39m\u001b[38;5;241m=\u001b[39m \u001b[38;5;28mself\u001b[39m\u001b[38;5;241m.\u001b[39m_max_value):\n\u001b[1;32m--> 299\u001b[0m     \u001b[38;5;28;01mraise\u001b[39;00m \u001b[38;5;167;01mValueError\u001b[39;00m(\n\u001b[0;32m    300\u001b[0m         \u001b[38;5;124mf\u001b[39m\u001b[38;5;124m\"\u001b[39m\u001b[38;5;132;01m{\u001b[39;00mvalue\u001b[38;5;132;01m!r}\u001b[39;00m\u001b[38;5;124m is invalid: must be between \u001b[39m\u001b[38;5;124m\"\u001b[39m\n\u001b[0;32m    301\u001b[0m         \u001b[38;5;124mf\u001b[39m\u001b[38;5;124m\"\u001b[39m\u001b[38;5;132;01m{\u001b[39;00m\u001b[38;5;28mself\u001b[39m\u001b[38;5;241m.\u001b[39m_min_value\u001b[38;5;132;01m}\u001b[39;00m\u001b[38;5;124m and \u001b[39m\u001b[38;5;132;01m{\u001b[39;00m\u001b[38;5;28mself\u001b[39m\u001b[38;5;241m.\u001b[39m_max_value\u001b[38;5;132;01m}\u001b[39;00m\u001b[38;5;124m inclusive; \u001b[39m\u001b[38;5;132;01m{\u001b[39;00mcontext\u001b[38;5;132;01m}\u001b[39;00m\u001b[38;5;124m\"\u001b[39m\n\u001b[0;32m    302\u001b[0m     )\n",
      "\u001b[1;31mValueError\u001b[0m: ('1e-06 is invalid: must be between -1e-07 and 1e-07 inclusive; ', 'setting IVVI_s4c_output to 1e-06')"
     ]
    }
   ],
   "source": [
    "ivvi.s4c.range(1e-7)\n",
    "ivvi.s4c.output(1e-6)\n"
   ]
  },
  {
   "cell_type": "code",
   "execution_count": null,
   "id": "01089282",
   "metadata": {},
   "outputs": [],
   "source": []
  }
 ],
 "metadata": {
  "kernelspec": {
   "display_name": "meas-gui-X49F-gLk-py3.12",
   "language": "python",
   "name": "python3"
  },
  "language_info": {
   "codemirror_mode": {
    "name": "ipython",
    "version": 3
   },
   "file_extension": ".py",
   "mimetype": "text/x-python",
   "name": "python",
   "nbconvert_exporter": "python",
   "pygments_lexer": "ipython3",
   "version": "3.12.9"
  }
 },
 "nbformat": 4,
 "nbformat_minor": 5
}
