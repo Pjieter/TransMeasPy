{
 "cells": [
  {
   "cell_type": "code",
   "execution_count": 1,
   "metadata": {},
   "outputs": [],
   "source": [
    "import sys\n",
    "from pathlib import Path\n",
    "import os\n",
    "# Add the parent directory to Python path\n",
    "from TransMeasPy.local_qcodes.instrument_drivers.Kiutra.L_type_rapid import L_type_rapid"
   ]
  },
  {
   "cell_type": "code",
   "execution_count": 2,
   "metadata": {},
   "outputs": [
    {
     "ename": "NameError",
     "evalue": "name 'TemperatureControl' is not defined",
     "output_type": "error",
     "traceback": [
      "\u001b[31m---------------------------------------------------------------------------\u001b[39m",
      "\u001b[31mNameError\u001b[39m                                 Traceback (most recent call last)",
      "\u001b[36mCell\u001b[39m\u001b[36m \u001b[39m\u001b[32mIn[2]\u001b[39m\u001b[32m, line 1\u001b[39m\n\u001b[32m----> \u001b[39m\u001b[32m1\u001b[39m kiutra = \u001b[43mL_type_rapid\u001b[49m\u001b[43m(\u001b[49m\u001b[33;43m\"\u001b[39;49m\u001b[33;43mkiutra\u001b[39;49m\u001b[33;43m\"\u001b[39;49m\u001b[43m,\u001b[49m\u001b[43m \u001b[49m\u001b[33;43m\"\u001b[39;49m\u001b[33;43m192.168.11.20\u001b[39;49m\u001b[33;43m\"\u001b[39;49m\u001b[43m)\u001b[49m\n",
      "\u001b[36mFile \u001b[39m\u001b[32mc:\\Users\\mpdubbelman\\AppData\\Local\\pypoetry\\Cache\\virtualenvs\\TransMeasPy-VTSyO7qf-py3.12\\Lib\\site-packages\\qcodes\\instrument\\instrument_meta.py:36\u001b[39m, in \u001b[36mInstrumentMeta.__call__\u001b[39m\u001b[34m(cls, *args, **kwargs)\u001b[39m\n\u001b[32m     31\u001b[39m \u001b[38;5;28;01mdef\u001b[39;00m\u001b[38;5;250m \u001b[39m\u001b[34m__call__\u001b[39m(\u001b[38;5;28mcls\u001b[39m, *args: Any, **kwargs: Any) -> Any:\n\u001b[32m     32\u001b[39m \u001b[38;5;250m    \u001b[39m\u001b[33;03m\"\"\"\u001b[39;00m\n\u001b[32m     33\u001b[39m \u001b[33;03m    Overloads `type.__call__` to add code that runs only if __init__ completes\u001b[39;00m\n\u001b[32m     34\u001b[39m \u001b[33;03m    successfully.\u001b[39;00m\n\u001b[32m     35\u001b[39m \u001b[33;03m    \"\"\"\u001b[39;00m\n\u001b[32m---> \u001b[39m\u001b[32m36\u001b[39m     new_inst = \u001b[38;5;28;43msuper\u001b[39;49m\u001b[43m(\u001b[49m\u001b[43m)\u001b[49m\u001b[43m.\u001b[49m\u001b[34;43m__call__\u001b[39;49m\u001b[43m(\u001b[49m\u001b[43m*\u001b[49m\u001b[43margs\u001b[49m\u001b[43m,\u001b[49m\u001b[43m \u001b[49m\u001b[43m*\u001b[49m\u001b[43m*\u001b[49m\u001b[43mkwargs\u001b[49m\u001b[43m)\u001b[49m\n\u001b[32m     37\u001b[39m     is_abstract = new_inst._is_abstract()\n\u001b[32m     38\u001b[39m     \u001b[38;5;28;01mif\u001b[39;00m is_abstract:\n",
      "\u001b[36mFile \u001b[39m\u001b[32m~\\OneDrive - Delft University of Technology\\Documents\\Coding\\TransMeasPy\\TransMeasPy\\local_qcodes\\instrument_drivers\\Kiutra\\L_type_rapid.py:436\u001b[39m, in \u001b[36mL_type_rapid.__init__\u001b[39m\u001b[34m(self, name, address, **kwargs)\u001b[39m\n\u001b[32m    431\u001b[39m \u001b[38;5;28msuper\u001b[39m().\u001b[34m__init__\u001b[39m(name, **kwargs)\n\u001b[32m    432\u001b[39m \u001b[38;5;28mself\u001b[39m.address = address\n\u001b[32m    434\u001b[39m \u001b[38;5;28mself\u001b[39m.add_submodule(\n\u001b[32m    435\u001b[39m     \u001b[33m\"\u001b[39m\u001b[33mtemperature_control\u001b[39m\u001b[33m\"\u001b[39m,\n\u001b[32m--> \u001b[39m\u001b[32m436\u001b[39m     \u001b[43mTemperatureControlChannel\u001b[49m\u001b[43m(\u001b[49m\u001b[38;5;28;43mself\u001b[39;49m\u001b[43m,\u001b[49m\u001b[43m \u001b[49m\u001b[33;43m\"\u001b[39;49m\u001b[33;43mtemperature_control\u001b[39;49m\u001b[33;43m\"\u001b[39;49m\u001b[43m,\u001b[49m\u001b[43m \u001b[49m\u001b[43maddress\u001b[49m\u001b[43m)\u001b[49m,\n\u001b[32m    437\u001b[39m )\n\u001b[32m    439\u001b[39m \u001b[38;5;28mself\u001b[39m.add_submodule(\n\u001b[32m    440\u001b[39m     \u001b[33m\"\u001b[39m\u001b[33mmagnet_control\u001b[39m\u001b[33m\"\u001b[39m, MagnetControlChannel(\u001b[38;5;28mself\u001b[39m, \u001b[33m\"\u001b[39m\u001b[33mmagnet_control\u001b[39m\u001b[33m\"\u001b[39m, address)\n\u001b[32m    441\u001b[39m )\n",
      "\u001b[36mFile \u001b[39m\u001b[32m~\\OneDrive - Delft University of Technology\\Documents\\Coding\\TransMeasPy\\TransMeasPy\\local_qcodes\\instrument_drivers\\Kiutra\\L_type_rapid.py:30\u001b[39m, in \u001b[36mTemperatureControlChannel.__init__\u001b[39m\u001b[34m(self, parent, name, address)\u001b[39m\n\u001b[32m     28\u001b[39m \u001b[38;5;28msuper\u001b[39m().\u001b[34m__init__\u001b[39m(parent, name)\n\u001b[32m     29\u001b[39m \u001b[38;5;28mself\u001b[39m.address = address\n\u001b[32m---> \u001b[39m\u001b[32m30\u001b[39m \u001b[38;5;28mself\u001b[39m.temperature_controller = \u001b[43mTemperatureControl\u001b[49m(\n\u001b[32m     31\u001b[39m     \u001b[33m\"\u001b[39m\u001b[33mtemperature_control\u001b[39m\u001b[33m\"\u001b[39m, \u001b[38;5;28mself\u001b[39m.address\n\u001b[32m     32\u001b[39m )\n\u001b[32m     33\u001b[39m \u001b[38;5;28mself\u001b[39m.adr_controller = ADRControl(\u001b[33m\"\u001b[39m\u001b[33madr_control\u001b[39m\u001b[33m\"\u001b[39m, \u001b[38;5;28mself\u001b[39m.address)\n\u001b[32m     34\u001b[39m \u001b[38;5;28mself\u001b[39m.thermometer = Thermometer(\u001b[33m\"\u001b[39m\u001b[33mT_sample\u001b[39m\u001b[33m\"\u001b[39m, \u001b[38;5;28mself\u001b[39m.address)\n",
      "\u001b[31mNameError\u001b[39m: name 'TemperatureControl' is not defined"
     ]
    }
   ],
   "source": [
    "kiutra = L_type_rapid(\"kiutra\", \"192.168.11.20\")"
   ]
  },
  {
   "cell_type": "code",
   "execution_count": 7,
   "metadata": {},
   "outputs": [],
   "source": [
    "from kiutra_api.controller_interfaces import TemperatureControl"
   ]
  },
  {
   "cell_type": "code",
   "execution_count": 8,
   "metadata": {},
   "outputs": [],
   "source": [
    "kiutra = TemperatureControl(\"kiutra\", \"192.168.11.20\")"
   ]
  },
  {
   "cell_type": "code",
   "execution_count": 15,
   "metadata": {},
   "outputs": [
    {
     "data": {
      "text/plain": [
       "['mag_sample',\n",
       " 'mps_1',\n",
       " 'mps_2',\n",
       " 'T_adr1',\n",
       " 'T_adr2',\n",
       " 'T_sample',\n",
       " 'T_ccr2',\n",
       " 'T_system',\n",
       " 'T_puck',\n",
       " 'T_test1',\n",
       " 'sample_heater',\n",
       " 'warmup_heater',\n",
       " 'T_ccr1',\n",
       " 'T_test2',\n",
       " 'T_test3',\n",
       " 'T_test4',\n",
       " 'isovac',\n",
       " 'lockvac',\n",
       " 'compressed_air',\n",
       " 'purge_gas',\n",
       " 'winch',\n",
       " 'hs_1',\n",
       " 'hs_2',\n",
       " 'hs_3',\n",
       " 'forepump',\n",
       " 'pressure_regulator',\n",
       " 'gate',\n",
       " 'utility',\n",
       " 'main',\n",
       " 'purge',\n",
       " 'turbopump',\n",
       " 'baffles',\n",
       " 'compressor',\n",
       " 'api_manager',\n",
       " 'gas_handling_group',\n",
       " 'sample_loader_group',\n",
       " 'temperature_control',\n",
       " 'sample_magnet',\n",
       " 'sample_loader',\n",
       " 'adr_control',\n",
       " 'adr_control_1',\n",
       " 'adr_control_2',\n",
       " 'cryostat_control',\n",
       " 'cryostat']"
      ]
     },
     "execution_count": 15,
     "metadata": {},
     "output_type": "execute_result"
    }
   ],
   "source": [
    "from kiutra_api.api_client import APIManager\n",
    "device = APIManager(\"192.168.11.20\")\n",
    "device.api_info"
   ]
  }
 ],
 "metadata": {
  "kernelspec": {
   "display_name": "TransMeasPy-VTSyO7qf-py3.12",
   "language": "python",
   "name": "python3"
  },
  "language_info": {
   "codemirror_mode": {
    "name": "ipython",
    "version": 3
   },
   "file_extension": ".py",
   "mimetype": "text/x-python",
   "name": "python",
   "nbconvert_exporter": "python",
   "pygments_lexer": "ipython3",
   "version": "3.12.9"
  }
 },
 "nbformat": 4,
 "nbformat_minor": 2
}
