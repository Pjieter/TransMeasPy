{
 "cells": [
  {
   "cell_type": "code",
   "execution_count": null,
   "metadata": {},
   "outputs": [],
   "source": [
    "# Useful imports:\n",
    "from pathlib import Path\n",
    "\n",
    "from qcodes.dataset import (\n",
    "    Measurement,\n",
    "    initialise_or_create_database_at,\n",
    "    load_or_create_experiment,\n",
    "    ThreadPoolParamsCaller,\n",
    "    ArraySweep,\n",
    "    dond,\n",
    "    plot_dataset,\n",
    ")\n",
    "from qcodes.instrument_drivers.mock_instruments import DummyInstrument, DummyInstrumentWithMeasurement\n",
    "from qcodes.parameters import Parameter\n",
    "from qcodes.station import Station\n",
    "import qcodes as qc\n",
    "import numpy as np\n",
    "import time\n",
    "import IPython.lib.backgroundjobs as bg\n",
    "from plottr.apps import inspectr"
   ]
  },
  {
   "cell_type": "code",
   "execution_count": null,
   "metadata": {},
   "outputs": [],
   "source": [
    "station = Station(config_file=r\"station_test.yaml\")\n",
    "station.load_all_instruments()"
   ]
  },
  {
   "cell_type": "code",
   "execution_count": null,
   "metadata": {},
   "outputs": [],
   "source": [
    "dac = DummyInstrument(\"dac\", gates=[\"ch1\"])\n",
    "dmm = DummyInstrumentWithMeasurement(name=\"dmm\", setter_instr=dac)"
   ]
  },
  {
   "cell_type": "code",
   "execution_count": null,
   "metadata": {},
   "outputs": [],
   "source": [
    "# Let's initialize a database to ensure that it exists\n",
    "initialise_or_create_database_at(Path.cwd() / \"snapshot_example.db\")\n",
    "\n",
    "# Let's create a new experiment\n",
    "experiment = load_or_create_experiment(\"snapshot_experiment\", \"no_sample_yet\")\n",
    "measurement = Measurement(experiment, station)"
   ]
  },
  {
   "cell_type": "code",
   "execution_count": null,
   "metadata": {},
   "outputs": [],
   "source": [
    "measurement.register_parameter(station.kiutra.temperature_control.setpoint)\n",
    "measurement.register_parameter(dac.ch1)\n",
    "measurement.register_parameter(station.keithley1.measure, setpoints=[station.kiutra.temperature_control.setpoint, dac.ch1])\n",
    "measurement.register_parameter(station.kiutra.temperature_control.temperature, setpoints=[station.kiutra.temperature_control.setpoint, dac.ch1])\n",
    "measurement.register_parameter(station.kiutra.magnet_control.field, setpoints=[station.kiutra.temperature_control.setpoint, dac.ch1])"
   ]
  },
  {
   "cell_type": "code",
   "execution_count": null,
   "metadata": {},
   "outputs": [],
   "source": [
    "station.kiutra.temperature_control.is_stable() is False"
   ]
  },
  {
   "cell_type": "code",
   "execution_count": null,
   "metadata": {},
   "outputs": [],
   "source": [
    "pool_caller = ThreadPoolParamsCaller(\n",
    "    station.kiutra.temperature_control.setpoint,\n",
    "    dac.ch1,\n",
    "    station.kiutra.temperature_control.temperature,\n",
    "    station.kiutra.magnet_control.field,\n",
    "    station.keithley1.measure,\n",
    ")\n",
    "\n",
    "with (\n",
    "    measurement.run() as datasaver,\n",
    "    pool_caller as call_params_in_pool,\n",
    "):\n",
    "    for temp in np.linspace(2.4,2.6,3):\n",
    "        station.kiutra.temperature_control.setpoint(temp)\n",
    "        time.sleep(1)\n",
    "        while station.kiutra.temperature_control.is_stable() is False:\n",
    "            time.sleep(1)\n",
    "        for gate in np.linspace(0, 1, 10):\n",
    "            dac.ch1(gate)\n",
    "            time.sleep(0.01)\n",
    "            datasaver.add_result(*call_params_in_pool())\n",
    "    # Convenient to have for plotting and data access\n",
    "    dataset = datasaver.dataset"
   ]
  },
  {
   "cell_type": "code",
   "execution_count": null,
   "metadata": {},
   "outputs": [],
   "source": [
    "plot_dataset(dataset)"
   ]
  },
  {
   "cell_type": "code",
   "execution_count": null,
   "metadata": {},
   "outputs": [],
   "source": [
    "measurements = (\n",
    "    station.keithley1.measure,\n",
    "    station.kiutra.temperature_control.temperature,\n",
    "    station.kiutra.magnet_control.field,\n",
    ")\n",
    "sweepZeroP = np.arange(0, 1, 0.01)\n",
    "sweepPN = np.arange(1,-1,-0.01)\n",
    "sweepNZero = np.arange(-1, 1e-12, 0.01)\n",
    "sweep = np.concatenate((sweepZeroP, sweepPN, sweepNZero))\n",
    "measurementSweep = ArraySweep(station.mfli1.sigouts[0].offset, sweep, delay=0.2, get_after_set=True)"
   ]
  },
  {
   "cell_type": "code",
   "execution_count": null,
   "metadata": {},
   "outputs": [],
   "source": [
    "t0 = time.perf_counter()\n",
    "dond(measurementSweep, *measurements, do_plot=True, use_threads=False)\n",
    "t1 = time.perf_counter()\n",
    "\n",
    "print(\"Report:\")\n",
    "print(f\"Data acquisition time: {t1 - t0} s\")"
   ]
  },
  {
   "cell_type": "code",
   "execution_count": null,
   "metadata": {},
   "outputs": [],
   "source": []
  }
 ],
 "metadata": {
  "kernelspec": {
   "display_name": "meas-gui-lDf0fpjf-py3.12",
   "language": "python",
   "name": "python3"
  },
  "language_info": {
   "codemirror_mode": {
    "name": "ipython",
    "version": 3
   },
   "file_extension": ".py",
   "mimetype": "text/x-python",
   "name": "python",
   "nbconvert_exporter": "python",
   "pygments_lexer": "ipython3",
   "version": "3.12.8"
  }
 },
 "nbformat": 4,
 "nbformat_minor": 2
}
